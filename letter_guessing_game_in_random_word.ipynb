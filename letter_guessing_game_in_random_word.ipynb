{
 "cells": [
  {
   "cell_type": "code",
   "execution_count": 1,
   "metadata": {},
   "outputs": [
    {
     "name": "stdout",
     "output_type": "stream",
     "text": [
      "Random string: 6dXj7XE6rb\n",
      "k is not in the random string.\n"
     ]
    }
   ],
   "source": [
    "import random\n",
    "import string\n",
    "\n",
    "#Define the pool of characters\n",
    "characters= string.ascii_letters + string.digits     #includes uppercase, lowercase and digits\n",
    "\n",
    "#Define the desired length of the random string\n",
    "length= 10\n",
    "\n",
    "#Generate a random string\n",
    "random_string= ''.join(random.choices(characters, k=length))\n",
    "\n",
    "\n",
    "\n",
    "guess= input(\"enter a letter or digit in the secret random word:\")\n",
    "\n",
    "print(\"Random string:\", random_string)\n",
    "\n",
    "if guess in random_string:\n",
    "    print(f\"{guess} is in the random string.\")\n",
    "else:\n",
    "    print(f\"{guess} is not in the random string.\")\n",
    "\n"
   ]
  }
 ],
 "metadata": {
  "kernelspec": {
   "display_name": "Python 3",
   "language": "python",
   "name": "python3"
  },
  "language_info": {
   "codemirror_mode": {
    "name": "ipython",
    "version": 3
   },
   "file_extension": ".py",
   "mimetype": "text/x-python",
   "name": "python",
   "nbconvert_exporter": "python",
   "pygments_lexer": "ipython3",
   "version": "3.13.0"
  }
 },
 "nbformat": 4,
 "nbformat_minor": 2
}
