{
 "cells": [
  {
   "cell_type": "code",
   "execution_count": 1,
   "metadata": {},
   "outputs": [
    {
     "name": "stdout",
     "output_type": "stream",
     "text": [
      "Player: paper\n",
      "Computer: paper\n",
      "It's a tie!\n",
      "Player: rock\n",
      "Computer: rock\n",
      "It's a tie!\n",
      "Player: scissor\n",
      "Computer: paper\n",
      "You win!\n",
      "Thankyou so much for playing....!\n"
     ]
    }
   ],
   "source": [
    "#Full game of rock-paper-scissors:\n",
    "\n",
    "import random\n",
    "\n",
    "options=(\"rock\", \"paper\", \"scissor\")     #a tuple is used since we won't be changing the options ever\n",
    "running= True\n",
    "\n",
    "while running:\n",
    "    \n",
    "    player=None\n",
    "    computer= random.choice(options)\n",
    "    \n",
    "    while player not in options:\n",
    "        player= input(\"Enter a choice:(scissor, paper, rock):\")\n",
    "        \n",
    "    print(f\"Player: {player}\")\n",
    "    print(f\"Computer: {computer}\")\n",
    "    \n",
    "    if player== computer:\n",
    "        print(\"It's a tie!\")\n",
    "    elif player==\"rock\" and computer==\"scisssor\":\n",
    "        print(\"You win!\") \n",
    "    elif player==\"paper\" and computer==\"rock\":\n",
    "        print(\"You win!\")\n",
    "    elif player==\"scissor\" and computer==\"paper\":\n",
    "        print(\"You win!\")\n",
    "    else:\n",
    "        print(\"You lose!\") \n",
    "        \n",
    "    play_again=input(\"Do you want to play again? (y/n):\").lower()\n",
    "    if not play_again==\"y\":\n",
    "        running= False\n",
    "        \n",
    "print(\"Thankyou so much for playing....!\")\n",
    "                    "
   ]
  }
 ],
 "metadata": {
  "kernelspec": {
   "display_name": "Python 3",
   "language": "python",
   "name": "python3"
  },
  "language_info": {
   "codemirror_mode": {
    "name": "ipython",
    "version": 3
   },
   "file_extension": ".py",
   "mimetype": "text/x-python",
   "name": "python",
   "nbconvert_exporter": "python",
   "pygments_lexer": "ipython3",
   "version": "3.13.0"
  }
 },
 "nbformat": 4,
 "nbformat_minor": 2
}
